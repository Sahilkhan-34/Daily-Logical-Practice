{
 "cells": [
  {
   "cell_type": "code",
   "execution_count": 2,
   "metadata": {},
   "outputs": [
    {
     "name": "stdout",
     "output_type": "stream",
     "text": [
      "{0: 10, 1: 20, '2': 30}\n"
     ]
    }
   ],
   "source": [
    "\n",
    "# wirte a program to add a key value pair into a dictionary\n",
    "sample_dict  = {0:10,1:20}\n",
    "# Expected_output = {0:10,1:20,2:30}\n",
    "sample_dict['2'] = 30\n",
    "print(sample_dict)"
   ]
  },
  {
   "cell_type": "code",
   "execution_count": 10,
   "metadata": {},
   "outputs": [
    {
     "name": "stdout",
     "output_type": "stream",
     "text": [
      "{1: 10, 2: 20, 3: 30, 4: 40, 5: 50, 6: 60}\n"
     ]
    }
   ],
   "source": [
    "# write a code to concatenate the following the dictionary to create a new dictionary\n",
    "dict1 = {1:10,2:20}\n",
    "dict2 = {3:30,4:40}\n",
    "dict3 = {5:50,6:60}\n",
    "\n",
    "new_dict = new_dict = {key: value for d in [dict1, dict2, dict3] for key, value in d.items()} \n",
    "\n",
    "print(new_dict)"
   ]
  },
  {
   "cell_type": "code",
   "execution_count": null,
   "metadata": {},
   "outputs": [],
   "source": [
    "# write a program to check whether a given key already exist or not in the dictionary\n",
    "print(new_dict)\n",
    "new_dict.\n",
    " "
   ]
  }
 ],
 "metadata": {
  "kernelspec": {
   "display_name": "base",
   "language": "python",
   "name": "python3"
  },
  "language_info": {
   "codemirror_mode": {
    "name": "ipython",
    "version": 3
   },
   "file_extension": ".py",
   "mimetype": "text/x-python",
   "name": "python",
   "nbconvert_exporter": "python",
   "pygments_lexer": "ipython3",
   "version": "3.11.5"
  }
 },
 "nbformat": 4,
 "nbformat_minor": 2
}
