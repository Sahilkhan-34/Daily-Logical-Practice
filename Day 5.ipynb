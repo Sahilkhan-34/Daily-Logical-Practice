{
 "cells": [
  {
   "cell_type": "code",
   "execution_count": 2,
   "metadata": {},
   "outputs": [
    {
     "name": "stdout",
     "output_type": "stream",
     "text": [
      "[0]\n"
     ]
    }
   ],
   "source": [
    "# # Octal to Decimal conversion\n",
    "def oct_to_dec(number):\n",
    "    list1 = []\n",
    "    if number > 8 :\n",
    "        rem  = number % 8\n",
    "        quotint = number // 8\n",
    "        list1.append(rem)\n",
    "        oct_to_dec(quotint)\n",
    "    else:\n",
    "        list1.append(number)\n",
    "    return list1\n",
    "\n",
    "print(oct_to_dec(200)) # not completed\n"
   ]
  },
  {
   "cell_type": "code",
   "execution_count": null,
   "metadata": {},
   "outputs": [],
   "source": []
  }
 ],
 "metadata": {
  "kernelspec": {
   "display_name": "base",
   "language": "python",
   "name": "python3"
  },
  "language_info": {
   "codemirror_mode": {
    "name": "ipython",
    "version": 3
   },
   "file_extension": ".py",
   "mimetype": "text/x-python",
   "name": "python",
   "nbconvert_exporter": "python",
   "pygments_lexer": "ipython3",
   "version": "3.11.5"
  }
 },
 "nbformat": 4,
 "nbformat_minor": 2
}
