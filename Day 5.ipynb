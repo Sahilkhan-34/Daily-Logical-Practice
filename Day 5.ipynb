{
 "cells": [
  {
   "cell_type": "code",
   "execution_count": 2,
   "metadata": {},
   "outputs": [
    {
     "name": "stdout",
     "output_type": "stream",
     "text": [
      "[0]\n"
     ]
    }
   ],
   "source": [
    "# # Octal to Decimal conversion\n",
    "def oct_to_dec(number):\n",
    "    list1 = []\n",
    "    if number > 8 :\n",
    "        rem  = number % 8\n",
    "        quotint = number // 8\n",
    "        list1.append(rem)\n",
    "        oct_to_dec(quotint)\n",
    "    else:\n",
    "        list1.append(number)\n",
    "    return list1\n",
    "\n",
    "print(oct_to_dec(200)) # not completed\n"
   ]
  },
  {
   "cell_type": "markdown",
   "metadata": {},
   "source": [
    "Replace a perticuler word with another word like 'geekforgeek' to 'geekthatgeek' replacing 'for' to 'that'"
   ]
  },
  {
   "cell_type": "code",
   "execution_count": 33,
   "metadata": {},
   "outputs": [
    {
     "name": "stdout",
     "output_type": "stream",
     "text": [
      "GeeksthatGeeks\n"
     ]
    }
   ],
   "source": [
    "string1 = 'GeeksforGeeks'\n",
    "str2 = 'for'\n",
    "str3 = 'that'\n",
    "str4 = ''\n",
    "str5 = ''\n",
    "for i in string1:\n",
    "    if i in str2:\n",
    "        str4 += i \n",
    "    elif str4 == str2:\n",
    "        str5 += str3\n",
    "        str4 += 'a'\n",
    "        str5 += i\n",
    "    else:\n",
    "        str5 += i    \n",
    "print(str5)\n"
   ]
  },
  {
   "cell_type": "code",
   "execution_count": 45,
   "metadata": {},
   "outputs": [
    {
     "name": "stdout",
     "output_type": "stream",
     "text": [
      ",12,,15,,,652\n",
      "679\n"
     ]
    }
   ],
   "source": [
    "string2 = 'a12cd15def652'\n",
    "numbers = '' \n",
    "for i in string2:\n",
    "    if i.isnumeric():\n",
    "        numbers += i\n",
    "    elif i.isalpha():\n",
    "        numbers = numbers + ','\n",
    "\n",
    "print(numbers)\n",
    "list2 = [int(i) for i in numbers.split(',') if i]\n",
    "print(sum(list2))"
   ]
  },
  {
   "cell_type": "code",
   "execution_count": 46,
   "metadata": {},
   "outputs": [
    {
     "data": {
      "text/plain": [
       "True"
      ]
     },
     "execution_count": 46,
     "metadata": {},
     "output_type": "execute_result"
    }
   ],
   "source": [
    "'a' > '0'"
   ]
  },
  {
   "cell_type": "code",
   "execution_count": 48,
   "metadata": {},
   "outputs": [
    {
     "name": "stdout",
     "output_type": "stream",
     "text": [
      ",12,,15,,,652\n",
      "679\n"
     ]
    }
   ],
   "source": [
    "numbers2 = ''\n",
    "for i in string2:\n",
    "    if ord(i) < 58:\n",
    "        numbers2 += i\n",
    "    else:\n",
    "        numbers2 += ','\n",
    "print(numbers2)\n",
    "list2 = [int(i) for i in numbers2.split(',') if i]\n",
    "print(sum(list2))"
   ]
  },
  {
   "cell_type": "code",
   "execution_count": 51,
   "metadata": {},
   "outputs": [
    {
     "name": "stdout",
     "output_type": "stream",
     "text": [
      "546\n",
      "547\n",
      "not similler word\n"
     ]
    }
   ],
   "source": [
    "str1 = 'happy'\n",
    "str2 = 'yppbh'\n",
    "def ascii_sum(char):\n",
    "    summ = 0\n",
    "    for i in char:\n",
    "        summ += ord(i)\n",
    "    return summ\n",
    "\n",
    "result1 = ascii_sum(str1)\n",
    "print(result1)\n",
    "result2 = ascii_sum(str2)\n",
    "print(result2)\n",
    "if result1 == result2:\n",
    "   print(\"similler words\")\n",
    "else:\n",
    "    print('not similler word')"
   ]
  },
  {
   "cell_type": "code",
   "execution_count": null,
   "metadata": {},
   "outputs": [],
   "source": []
  }
 ],
 "metadata": {
  "kernelspec": {
   "display_name": "base",
   "language": "python",
   "name": "python3"
  },
  "language_info": {
   "codemirror_mode": {
    "name": "ipython",
    "version": 3
   },
   "file_extension": ".py",
   "mimetype": "text/x-python",
   "name": "python",
   "nbconvert_exporter": "python",
   "pygments_lexer": "ipython3",
   "version": "3.11.5"
  }
 },
 "nbformat": 4,
 "nbformat_minor": 2
}
